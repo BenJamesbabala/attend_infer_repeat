{
 "cells": [
  {
   "cell_type": "code",
   "execution_count": null,
   "metadata": {},
   "outputs": [],
   "source": [
    "from os import path as osp\n",
    "import numpy as np\n",
    "import tensorflow as tf\n",
    "import sonnet as snt\n",
    "from attrdict import AttrDict\n",
    "\n",
    "from evaluation import make_fig, make_logger\n",
    "\n",
    "from neurocity import minimize_clipped\n",
    "from neurocity.tools.params import num_trainable_params\n",
    "\n",
    "from data import load_data, tensors_from_data\n",
    "from mnist_model import AIRonMNIST\n",
    "\n",
    "% matplotlib inline"
   ]
  },
  {
   "cell_type": "code",
   "execution_count": null,
   "metadata": {
    "collapsed": true
   },
   "outputs": [],
   "source": [
    "learning_rate = 1e-4\n",
    "batch_size = 64\n",
    "img_size = 50, 50\n",
    "crop_size = 20, 20\n",
    "n_latent = 50\n",
    "n_hidden = 256\n",
    "n_steps = 3\n",
    "\n",
    "results_dir = '../results'\n",
    "run_name = 'new_data'\n",
    "\n",
    "logdir = osp.join(results_dir, run_name)\n",
    "checkpoint_name = osp.join(logdir, 'model.ckpt')\n",
    "axes = {'imgs': 0, 'labels': 0, 'nums': 1}"
   ]
  },
  {
   "cell_type": "code",
   "execution_count": null,
   "metadata": {
    "collapsed": true
   },
   "outputs": [],
   "source": [
    "use_prior = True\n",
    "\n",
    "num_steps_prior = AttrDict(\n",
    "    anneal='exp',\n",
    "    init=1. - 1e-7,\n",
    "    final=1e-5,\n",
    "    steps_div=1e4,\n",
    "    steps=1e5\n",
    ")\n",
    "\n",
    "appearance_prior = AttrDict(loc=0., scale=1.)\n",
    "where_scale_prior = AttrDict(loc=.5, scale=1.)\n",
    "where_shift_prior = AttrDict(scale=1.)\n",
    "\n",
    "use_reinforce = True\n",
    "sample_presence = True\n",
    "step_bias = 1.\n",
    "transform_var_bias = -3.\n",
    "\n",
    "init_explore_eps = .00\n",
    "\n",
    "l2_weight = 0. #1e-5"
   ]
  },
  {
   "cell_type": "code",
   "execution_count": null,
   "metadata": {
    "collapsed": true
   },
   "outputs": [],
   "source": [
    "test_data = load_data('mnist_test.pickle')\n",
    "train_data = load_data('mnist_train.pickle')"
   ]
  },
  {
   "cell_type": "code",
   "execution_count": null,
   "metadata": {
    "scrolled": false
   },
   "outputs": [],
   "source": [
    "tf.reset_default_graph()\n",
    "train_tensors = tensors_from_data(train_data, batch_size, axes, shuffle=True)\n",
    "test_tensors = tensors_from_data(test_data, batch_size, axes, shuffle=False)\n",
    "x, test_x = train_tensors['imgs'], test_tensors['imgs']\n",
    "y, test_y = train_tensors['nums'], test_tensors['nums']\n",
    "    \n",
    "n_hidden = 32 * 8\n",
    "n_layers = 2\n",
    "n_hiddens = [n_hidden] * n_layers\n",
    "    \n",
    "air = AIRonMNIST(x, y,\n",
    "                max_steps=3, \n",
    "                explore_eps=init_explore_eps,\n",
    "                inpt_encoder_hidden=n_hiddens,\n",
    "                glimpse_encoder_hidden=n_hiddens,\n",
    "                glimpse_decoder_hidden=n_hiddens,\n",
    "                transform_estimator_hidden=n_hiddens,\n",
    "                steps_pred_hidden=[128, 64],\n",
    "                baseline_hidden=[256, 128],\n",
    "                transform_var_bias=transform_var_bias,\n",
    "                step_bias=step_bias)"
   ]
  },
  {
   "cell_type": "code",
   "execution_count": null,
   "metadata": {},
   "outputs": [],
   "source": [
    "print num_trainable_params()"
   ]
  },
  {
   "cell_type": "code",
   "execution_count": null,
   "metadata": {},
   "outputs": [],
   "source": [
    "train_step, global_step = air.train_step(learning_rate, l2_weight, appearance_prior, where_scale_prior,\n",
    "                            where_shift_prior, num_steps_prior)"
   ]
  },
  {
   "cell_type": "code",
   "execution_count": null,
   "metadata": {},
   "outputs": [],
   "source": [
    "print num_trainable_params()"
   ]
  },
  {
   "cell_type": "code",
   "execution_count": null,
   "metadata": {
    "collapsed": true
   },
   "outputs": [],
   "source": [
    "config = tf.ConfigProto()\n",
    "config.gpu_options.allow_growth = True\n",
    "    \n",
    "sess = tf.Session(config=config)\n",
    "sess.run(tf.global_variables_initializer())\n",
    "all_summaries = tf.summary.merge_all()"
   ]
  },
  {
   "cell_type": "code",
   "execution_count": null,
   "metadata": {
    "collapsed": true
   },
   "outputs": [],
   "source": [
    "summary_writer = tf.summary.FileWriter(logdir, sess.graph)\n",
    "saver = tf.train.Saver()"
   ]
  },
  {
   "cell_type": "code",
   "execution_count": null,
   "metadata": {
    "collapsed": true
   },
   "outputs": [],
   "source": [
    "# import os\n",
    "\n",
    "# restore_dir = '/Users/adam/code/attend_infer_repeat/results/galactus/fixed_test_distrib_exp_5e-2'\n",
    "# restore_step = 1590000\n",
    "# restore_path = os.path.join(restore_dir, 'model.ckpt-{}'.format(restore_step))\n",
    "# saver.restore(sess, restore_path)"
   ]
  },
  {
   "cell_type": "code",
   "execution_count": null,
   "metadata": {
    "collapsed": true
   },
   "outputs": [],
   "source": [
    "imgs = train_data['imgs']\n",
    "presence_gt = train_data['nums']\n",
    "train_itr = -1"
   ]
  },
  {
   "cell_type": "code",
   "execution_count": null,
   "metadata": {
    "collapsed": true,
    "scrolled": false
   },
   "outputs": [],
   "source": [
    "train_batches = train_data['imgs'].shape[0]\n",
    "test_batches = test_data['imgs'].shape[0]\n",
    "log = make_logger(air, sess, summary_writer, train_tensors, train_batches, test_tensors, test_batches)"
   ]
  },
  {
   "cell_type": "code",
   "execution_count": null,
   "metadata": {
    "scrolled": true
   },
   "outputs": [],
   "source": [
    "train_itr = sess.run(global_step)\n",
    "print 'Starting training at iter = {}'.format(train_itr)\n",
    "\n",
    "if train_itr == 0:\n",
    "    log(0)\n",
    "\n",
    "while train_itr < 1e6:\n",
    "        \n",
    "    train_itr, _ = sess.run([global_step, train_step])\n",
    "    \n",
    "    if train_itr % 1000 == 0:\n",
    "        summaries = sess.run(all_summaries)\n",
    "        summary_writer.add_summary(summaries, train_itr)\n",
    "        \n",
    "    if train_itr % 5000 == 0:\n",
    "        log(train_itr)\n",
    "        \n",
    "    if train_itr % 5000 == 0:\n",
    "        saver.save(sess, checkpoint_name, global_step=train_itr)\n",
    "        make_fig(air, sess, logdir, train_itr)    "
   ]
  },
  {
   "cell_type": "code",
   "execution_count": null,
   "metadata": {},
   "outputs": [],
   "source": [
    "# Step 0, Data train prior_loss = 79.7340, loss = -137.9240, appearance_prior_loss = 58.9468, where_kl = 16.7256, imp_weight = -137.9321, num_steps_prior_loss = 4.0616, baseline_loss = 207935.1055, reinforce_loss = 191.8054, rec_loss = -217.6580, num_step = 1.6552, num_step_acc = 0.2030, eval time = 20.52s\n",
    "# Step 0, Data test prior_loss = 80.3634, loss = -32.3590, appearance_prior_loss = 59.4602, where_kl = 16.8412, imp_weight = -32.3640, num_steps_prior_loss = 4.0620, baseline_loss = 196782.6906, reinforce_loss = 48.3068, rec_loss = -112.7224, num_step = 1.6667, num_step_acc = 0.1823, eval time = 0.4591s\n",
    "\n",
    "# Step 5000, Data train prior_loss = 56.1600, loss = -538.5864, appearance_prior_loss = 39.5540, where_kl = 15.1861, imp_weight = 9.0004, num_steps_prior_loss = 1.4199, baseline_loss = 30174.7290, reinforce_loss = -8.9212, rec_loss = -594.7464, num_step = 1.3531, num_step_acc = 0.6109, eval time = 21.67s\n",
    "# Step 5000, Data test prior_loss = 64.6501, loss = -495.0052, appearance_prior_loss = 45.7572, where_kl = 17.4212, imp_weight = 53.3369, num_steps_prior_loss = 1.4716, baseline_loss = 40518.6945, reinforce_loss = -21.7163, rec_loss = -559.6553, num_step = 1.5656, num_step_acc = 0.5135, eval time = 0.3652s\n",
    "\n",
    "# Step 10000, Data train prior_loss = 58.3092, loss = -558.7546, appearance_prior_loss = 41.7721, where_kl = 15.0125, imp_weight = -13.6546, num_steps_prior_loss = 1.5246, baseline_loss = 21270.5903, reinforce_loss = -15.8663, rec_loss = -617.0638, num_step = 1.1990, num_step_acc = 0.7944, eval time = 21.45s\n",
    "# Step 10000, Data test prior_loss = 67.6956, loss = -532.0989, appearance_prior_loss = 48.8716, where_kl = 17.1659, imp_weight = 13.0798, num_steps_prior_loss = 1.6581, baseline_loss = 20118.7833, reinforce_loss = -22.8056, rec_loss = -599.7945, num_step = 1.3760, num_step_acc = 0.7625, eval time = 0.3726s"
   ]
  },
  {
   "cell_type": "code",
   "execution_count": null,
   "metadata": {},
   "outputs": [],
   "source": [
    "make_fig(air, sess, n_samples=64)"
   ]
  },
  {
   "cell_type": "code",
   "execution_count": null,
   "metadata": {},
   "outputs": [],
   "source": [
    "make_fig(air, sess, n_samples=64)"
   ]
  }
 ],
 "metadata": {
  "anaconda-cloud": {},
  "kernelspec": {
   "display_name": "Python [default]",
   "language": "python",
   "name": "python2"
  },
  "language_info": {
   "codemirror_mode": {
    "name": "ipython",
    "version": 2
   },
   "file_extension": ".py",
   "mimetype": "text/x-python",
   "name": "python",
   "nbconvert_exporter": "python",
   "pygments_lexer": "ipython2",
   "version": "2.7.12"
  }
 },
 "nbformat": 4,
 "nbformat_minor": 1
}
