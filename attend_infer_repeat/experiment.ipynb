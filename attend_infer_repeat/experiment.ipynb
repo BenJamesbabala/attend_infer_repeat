{
 "cells": [
  {
   "cell_type": "code",
   "execution_count": 1,
   "metadata": {
    "collapsed": true
   },
   "outputs": [],
   "source": [
    "from os import path as osp\n",
    "import numpy as np\n",
    "import tensorflow as tf\n",
    "import sonnet as snt\n",
    "\n",
    "from tensorflow.contrib.distributions import Bernoulli\n",
    "\n",
    "import matplotlib.pyplot as plt\n",
    "% matplotlib inline\n",
    "\n",
    "from neurocity import minimize_clipped\n",
    "from neurocity.tools.params import num_trainable_params\n",
    "\n",
    "from tf_tools.eval import make_expr_logger\n",
    "\n",
    "from data import load_data, tensors_from_data\n",
    "from model import AIRCell\n",
    "from ops import Loss"
   ]
  },
  {
   "cell_type": "code",
   "execution_count": 2,
   "metadata": {
    "collapsed": true
   },
   "outputs": [],
   "source": [
    "learning_rate = 1e-4\n",
    "batch_size = 64\n",
    "img_size = 50, 50\n",
    "crop_size = 20, 20\n",
    "n_latent = 50\n",
    "n_hidden = 256\n",
    "n_steps = 3\n",
    "\n",
    "results_dir = '../results'\n",
    "run_name = 'discrete_new'\n",
    "\n",
    "logdir = osp.join(results_dir, run_name)\n",
    "checkpoint_name = osp.join(logdir, 'model.ckpt')\n",
    "axes = {'imgs': 0, 'labels': 0, 'nums': 1}"
   ]
  },
  {
   "cell_type": "code",
   "execution_count": 3,
   "metadata": {
    "collapsed": true
   },
   "outputs": [],
   "source": [
    "prior_weight = 0\n",
    "\n",
    "num_steps_prior = 0.\n",
    "latent_code_prior = 0.\n",
    "\n",
    "use_reinforce = True\n",
    "\n",
    "init_explore_eps = .05"
   ]
  },
  {
   "cell_type": "code",
   "execution_count": 4,
   "metadata": {
    "collapsed": true
   },
   "outputs": [],
   "source": [
    "test_data = load_data('mnist_test.pickle')\n",
    "train_data = load_data('mnist_train.pickle')"
   ]
  },
  {
   "cell_type": "code",
   "execution_count": 5,
   "metadata": {
    "collapsed": false,
    "scrolled": false
   },
   "outputs": [],
   "source": [
    "tf.reset_default_graph()\n",
    "train_tensors = tensors_from_data(train_data, batch_size, axes, shuffle=True)\n",
    "test_tensors = tensors_from_data(test_data, batch_size, axes, shuffle=False)\n",
    "x, test_x = train_tensors['imgs'], test_tensors['imgs']\n",
    "y, test_y = train_tensors['nums'], test_tensors['nums']\n",
    "\n",
    "explore_eps = tf.get_variable('explore_eps', initializer=init_explore_eps, trainable=False)\n",
    "\n",
    "transition = snt.LSTM(n_hidden)\n",
    "air = AIRCell(img_size, crop_size, n_latent, transition, max_crop_size=1.0,\n",
    "              canvas_init=None,\n",
    "              sample_presence=True,\n",
    "              presence_bias=1.,\n",
    "              explore_eps=explore_eps,\n",
    "              debug=True)\n",
    "\n",
    "initial_state = air.initial_state(x)\n",
    "\n",
    "dummy_sequence = tf.zeros((n_steps, batch_size, 1), name='dummy_sequence')\n",
    "outputs, state = tf.nn.dynamic_rnn(air, dummy_sequence, initial_state=initial_state, time_major=True)\n",
    "canvas, cropped, what, where, presence_logit, presence = outputs\n",
    "presence_prob = tf.nn.sigmoid(presence_logit)\n",
    "\n",
    "with tf.variable_scope('notebook'):\n",
    "    cropped = tf.reshape(presence * tf.nn.sigmoid(cropped), (n_steps, batch_size,) + tuple(crop_size))\n",
    "    canvas = tf.reshape(canvas, (n_steps, batch_size,) + tuple(img_size))\n",
    "#     prob_canvas = tf.nn.sigmoid(canvas)\n",
    "    prob_canvas = canvas\n",
    "    final_canvas = canvas[-1]\n",
    "    \n",
    "    \n",
    "with tf.variable_scope('baseline'):\n",
    "    constant_baseline = snt.TrainableVariable([], initializers={'w': tf.zeros_initializer()}, name='constant_baseline')\n",
    "    \n",
    "baseline = constant_baseline()"
   ]
  },
  {
   "cell_type": "code",
   "execution_count": 6,
   "metadata": {
    "collapsed": false
   },
   "outputs": [
    {
     "name": "stdout",
     "output_type": "stream",
     "text": [
      "990482.0\n"
     ]
    }
   ],
   "source": [
    "print num_trainable_params()"
   ]
  },
  {
   "cell_type": "code",
   "execution_count": 7,
   "metadata": {
    "collapsed": false
   },
   "outputs": [],
   "source": [
    "###    Loss #################################################################################\n",
    "loss = Loss()\n",
    "prior_loss = Loss()\n",
    "train_step = []\n",
    "lr_tensor = tf.Variable(learning_rate, name='learning_rate', trainable=False)\n",
    "\n",
    "###    Reconstruction Loss ##################################################################\n",
    "# rec_loss_per_sample = tf.nn.sigmoid_cross_entropy_with_logits(labels=x, logits=final_canvas)\n",
    "rec_loss_per_sample = (x - final_canvas) ** 2\n",
    "\n",
    "rec_loss_per_sample = tf.reduce_sum(rec_loss_per_sample, axis=(1, 2))\n",
    "rec_loss = tf.reduce_mean(rec_loss_per_sample)\n",
    "tf.summary.scalar('rec_loss', rec_loss)\n",
    "\n",
    "loss.add(rec_loss, rec_loss_per_sample)\n",
    "# # ###    Prior Loss ###########################################################################\n",
    "\n",
    "if prior_weight > 0.:\n",
    "    \n",
    "    if num_steps_prior is not None:    \n",
    "        num_steps_prior_loss_per_sample = tf.squeeze((tf.reduce_sum(presence, 0) - num_steps_prior) ** 2)\n",
    "        num_steps_prior_loss = tf.reduce_mean(num_steps_prior_loss_per_sample)\n",
    "        \n",
    "        tf.summary.scalar('num_steps_prior_loss', num_steps_prior_loss)\n",
    "        prior_loss.add(num_steps_prior_loss, num_steps_prior_loss_per_sample)\n",
    "\n",
    "    if latent_code_prior is not None:\n",
    "        latent_code_prior_loss_per_sample = tf.reduce_mean(tf.reduce_sum((what - latent_code_prior) ** 2, -1), 0)\n",
    "        latent_code_prior_loss = tf.reduce_mean(latent_code_prior_loss_per_sample)\n",
    "        \n",
    "        tf.summary.scalar('latent_code_prior_loss', latent_code_prior_loss)\n",
    "        prior_loss.add(latent_code_prior_loss, latent_code_prior_loss_per_sample)\n",
    "\n",
    "    tf.summary.scalar('prior_loss', prior_loss.value)\n",
    "    loss.add(prior_loss, weight=prior_weight)\n",
    "\n",
    "# ###   REINFORCE ############################################################################\n",
    "\n",
    "opt_loss = loss.value\n",
    "if use_reinforce:\n",
    "    clipped_presence_prob = tf.clip_by_value(presence_prob, 1e-7, 1. - 1e-7)\n",
    "    log_prob = Bernoulli(probs=clipped_presence_prob).log_prob(presence)\n",
    "    log_prob = tf.squeeze(tf.reduce_mean(log_prob, 0))\n",
    "#     log_prob *= -1 # cause we're maximising\n",
    "    \n",
    "#     # instead of maximising probability we'll minimise cross-entropy, where labels are the taken actions\n",
    "#     log_prob = tf.nn.sigmoid_cross_entropy_with_logits(labels=presence, logits=presence_logit)\n",
    "\n",
    "    importance_weight = loss._per_sample\n",
    "    importance_weight -= baseline\n",
    "\n",
    "    reinforce_loss_per_sample = tf.stop_gradient(importance_weight) * log_prob\n",
    "    reinforce_loss = tf.reduce_mean(reinforce_loss_per_sample)\n",
    "    tf.summary.scalar('reinforce_loss', reinforce_loss)\n",
    "\n",
    "    opt_loss += reinforce_loss\n",
    "    \n",
    "    ### Baseline Optimisation ##################################################################################\n",
    "    baseline_vars = tf.get_collection(tf.GraphKeys.TRAINABLE_VARIABLES, scope='baseline')\n",
    "    baseline_target = tf.stop_gradient(loss.per_sample)\n",
    "    baseline_loss_per_sample = (baseline_target - baseline) ** 2\n",
    "    baseline_loss = tf.reduce_mean(baseline_loss_per_sample)\n",
    "    tf.summary.scalar('baseline_loss', baseline_loss)\n",
    "\n",
    "    baseline_opt = tf.train.RMSPropOptimizer(10 * lr_tensor, momentum=.9, centered=True)\n",
    "    baseline_train_step = baseline_opt.minimize(baseline_loss, var_list=baseline_vars)\n",
    "    train_step.append(baseline_train_step)\n",
    "\n",
    "    \n",
    "### Optimizer #################################################################################\n",
    "\n",
    "opt = tf.train.RMSPropOptimizer(lr_tensor, momentum=.9, centered=True)\n",
    "# true_train_step = opt.minimize(opt_loss)\n",
    "true_train_step = minimize_clipped(opt, opt_loss, clip_value=.3, normalize_by_num_params=True)\n",
    "train_step.append(true_train_step)\n",
    "\n",
    "\n",
    "###    Metrics #################################################################################\n",
    "gt_num = tf.reduce_sum(y, 0)\n",
    "pred_num = tf.reduce_sum(presence, 0)\n",
    "num_step_accuracy = tf.reduce_mean(tf.to_float(tf.equal(gt_num, pred_num)))\n",
    "num_step = tf.reduce_mean(tf.to_float(pred_num))"
   ]
  },
  {
   "cell_type": "code",
   "execution_count": 8,
   "metadata": {
    "collapsed": false
   },
   "outputs": [
    {
     "name": "stdout",
     "output_type": "stream",
     "text": [
      "Skipping baseline/constant_baseline/w:0\n"
     ]
    }
   ],
   "source": [
    "vs = tf.trainable_variables()\n",
    "gs = tf.gradients(opt_loss, vs)\n",
    "\n",
    "for v, g in zip(vs, gs):\n",
    "    if g is None:\n",
    "        print 'Skipping', v.name\n",
    "    else:\n",
    "        assert v.get_shape() == g.get_shape(), v.name\n",
    "\n",
    "named_grads = {v.name: g for v, g in zip(vs, gs) if g is not None}"
   ]
  },
  {
   "cell_type": "code",
   "execution_count": 9,
   "metadata": {
    "collapsed": true
   },
   "outputs": [],
   "source": [
    "def grad_variance(n=10, sort_by_var=True):\n",
    "    gs = {k: [] for k in named_grads}\n",
    "    for i in xrange(n):\n",
    "        values = sess.run(named_grads)\n",
    "        for k, v in values.iteritems():\n",
    "            gs[k].append(v)\n",
    "\n",
    "    for k, v in gs.iteritems():\n",
    "        v = np.stack(v, 0).reshape((n, -1))\n",
    "        gs[k] = np.var(v, 0).mean()\n",
    "        \n",
    "    sort_idx = 1 if sort_by_var else 0\n",
    "    gs = sorted(gs.items(), key=lambda x: x[sort_idx], reverse=True)\n",
    "    return gs\n",
    "\n",
    "def print_grad_variance():\n",
    "    grad_vars = grad_variance(10)\n",
    "    print\n",
    "    for g in grad_vars:\n",
    "        if g[1] > 1e-2:\n",
    "            print g\n",
    "    print"
   ]
  },
  {
   "cell_type": "code",
   "execution_count": 10,
   "metadata": {
    "collapsed": true
   },
   "outputs": [],
   "source": [
    "sess = tf.Session()\n",
    "sess.run(tf.global_variables_initializer())\n",
    "all_summaries = tf.summary.merge_all()"
   ]
  },
  {
   "cell_type": "code",
   "execution_count": 11,
   "metadata": {
    "collapsed": true
   },
   "outputs": [],
   "source": [
    "summary_writer = tf.summary.FileWriter(logdir)\n",
    "saver = tf.train.Saver()"
   ]
  },
  {
   "cell_type": "code",
   "execution_count": 12,
   "metadata": {
    "collapsed": true
   },
   "outputs": [],
   "source": [
    "imgs = train_data['imgs']\n",
    "presence_gt = train_data['nums']\n",
    "train_itr = -1"
   ]
  },
  {
   "cell_type": "code",
   "execution_count": null,
   "metadata": {
    "collapsed": true,
    "scrolled": false
   },
   "outputs": [],
   "source": [
    "def make_fig(checkpoint_dir=None, global_step=None):\n",
    "    xx, pred_canvas, pred_crop, pres = sess.run([x, prob_canvas, cropped, presence])\n",
    "\n",
    "    max_imgs = 10\n",
    "    bs = min(max_imgs, batch_size)\n",
    "    scale = 1.\n",
    "    figsize = scale * np.asarray((bs, 2 * n_steps + 1))\n",
    "    fig, axes = plt.subplots(2 * n_steps + 1, bs, figsize=figsize)\n",
    "\n",
    "    for i, ax in enumerate(axes[0]):\n",
    "        ax.imshow(xx[i], cmap='gray', vmin=0, vmax=1)\n",
    "\n",
    "    for i, ax_row in enumerate(axes[1:1+n_steps]):\n",
    "        for j, ax in enumerate(ax_row):\n",
    "            ax.imshow(pred_canvas[i, j], cmap='gray', vmin=0, vmax=1)\n",
    "\n",
    "    for i, ax_row in enumerate(axes[1+n_steps:]):\n",
    "        for j, ax in enumerate(ax_row):\n",
    "            ax.imshow(pred_crop[i, j], cmap='gray')#, vmin=0, vmax=1)\n",
    "            ax.set_title('{:.02f}'.format(pres[i, j, 0]), fontsize=4*scale)\n",
    "\n",
    "    for ax in axes.flatten():\n",
    "        ax.xaxis.set_visible(False)\n",
    "        ax.yaxis.set_visible(False)\n",
    "    \n",
    "    if checkpoint_dir is not None:\n",
    "        fig_name = osp.join(checkpoint_dir, 'progress_fig_{}.png'.format(global_step))\n",
    "        fig.savefig(fig_name, dpi=300)\n",
    "        plt.close('all')\n",
    "    \n",
    "exprs = {\n",
    "    'loss': loss.value,\n",
    "    'rec_loss': rec_loss,\n",
    "    'num_step_acc': num_step_accuracy,\n",
    "    'num_step': num_step\n",
    "}\n",
    "\n",
    "if prior_weight > 0:\n",
    "     exprs['prior_loss'] = prior_loss.value\n",
    "        \n",
    "if use_reinforce:\n",
    "    exprs['baseline_loss'] = baseline_loss\n",
    "    exprs['reinforce_loss'] = reinforce_loss\n",
    "    exprs['imp_weight'] = tf.reduce_mean(importance_weight)\n",
    "    \n",
    "train_log = make_expr_logger(sess, summary_writer, train_data['imgs'].shape[0] / batch_size, exprs, name='train')\n",
    "test_log = make_expr_logger(sess, summary_writer, test_data['imgs'].shape[0] / batch_size, exprs, name='test', data_dict={x: test_x, y: test_y})\n",
    "\n",
    "def log(train_itr):\n",
    "    train_log(train_itr)\n",
    "    test_log(train_itr)"
   ]
  },
  {
   "cell_type": "code",
   "execution_count": null,
   "metadata": {
    "collapsed": false
   },
   "outputs": [
    {
     "name": "stdout",
     "output_type": "stream",
     "text": [
      "Step 0, Data train loss = 70.3441, imp_weight = 70.3408, baseline_loss = 5017.8414, reinforce_loss = -37.9401, rec_loss = 70.3441, num_step = 2.1320, num_step_acc = 0.2154, eval time = 12.43s\n",
      "Step 0, Data test loss = 64.1348, imp_weight = 64.1314, baseline_loss = 4120.8240, reinforce_loss = -34.8684, rec_loss = 64.1348, num_step = 2.1323, num_step_acc = 0.1938, eval time = 0.3426s\n",
      "baseline value = 0.00333222304471\n",
      "\n",
      "(u'AIRCell/presence/linear_1/b:0', 12.801676)\n",
      "(u'AIRCell/Encoder_1/linear_1/b:0', 1.5385945)\n",
      "(u'AIRCell/Encoder_1/linear/b:0', 0.84167391)\n",
      "(u'AIRCell/Decoder/linear/b:0', 0.46835926)\n",
      "(u'AIRCell/presence/linear/b:0', 0.25406286)\n",
      "(u'AIRCell/Encoder_1/linear_1/w:0', 0.087502696)\n",
      "(u'AIRCell/Encoder_1/linear/w:0', 0.049853303)\n",
      "(u'AIRCell/Decoder/linear_1/b:0', 0.049171086)\n",
      "(u'AIRCell/Decoder/linear/w:0', 0.021023139)\n",
      "(u'AIRCell/presence/linear_1/w:0', 0.01755666)\n",
      "\n",
      "Step 1000, Data train loss = 13.0882, imp_weight = -1.3415, baseline_loss = 4.4275, reinforce_loss = -0.5327, rec_loss = 13.0882, num_step = 2.6073, num_step_acc = 0.0358, eval time = 11.92s\n",
      "Step 1000, Data test loss = 12.0549, imp_weight = -2.3747, baseline_loss = 5.6880, reinforce_loss = 0.3527, rec_loss = 12.0549, num_step = 2.6094, num_step_acc = 0.0323, eval time = 0.2188s\n",
      "baseline value = 14.4296274185\n",
      "\n",
      "(u'AIRCell/presence/linear_1/b:0', 0.01925162)\n",
      "(u'AIRCell/Encoder_1/linear_1/b:0', 0.018547827)\n",
      "(u'AIRCell/Decoder/linear/b:0', 0.017754911)\n",
      "\n"
     ]
    }
   ],
   "source": [
    "for train_itr in xrange(train_itr+1, int(1e7)):\n",
    "        \n",
    "    sess.run(train_step)\n",
    "    if train_itr % 1000 == 0:\n",
    "        summaries = sess.run(all_summaries)\n",
    "        summary_writer.add_summary(summaries, train_itr)\n",
    "        \n",
    "    if train_itr % 1000 == 0:\n",
    "        log(train_itr)\n",
    "        \n",
    "    if train_itr % 1000 == 0:\n",
    "#         saver.save(sess, checkpoint_name, global_step=train_itr)\n",
    "        make_fig(logdir, train_itr)    \n",
    "    \n",
    "    if train_itr % 1000 == 0:\n",
    "        print 'baseline value = {}'.format(sess.run(baseline))\n",
    "        print_grad_variance()"
   ]
  },
  {
   "cell_type": "code",
   "execution_count": null,
   "metadata": {
    "collapsed": false
   },
   "outputs": [],
   "source": [
    "make_fig()"
   ]
  }
 ],
 "metadata": {
  "anaconda-cloud": {},
  "kernelspec": {
   "display_name": "Python 2",
   "language": "python",
   "name": "python2"
  },
  "language_info": {
   "codemirror_mode": {
    "name": "ipython",
    "version": 2
   },
   "file_extension": ".py",
   "mimetype": "text/x-python",
   "name": "python",
   "nbconvert_exporter": "python",
   "pygments_lexer": "ipython2",
   "version": "2.7.6"
  }
 },
 "nbformat": 4,
 "nbformat_minor": 1
}
