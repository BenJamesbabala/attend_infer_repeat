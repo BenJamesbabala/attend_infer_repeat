{
 "cells": [
  {
   "cell_type": "code",
   "execution_count": 1,
   "metadata": {
    "collapsed": true
   },
   "outputs": [],
   "source": [
    "from os import path as osp\n",
    "import numpy as np\n",
    "import tensorflow as tf\n",
    "import sonnet as snt\n",
    "\n",
    "from tensorflow.contrib.distributions import Bernoulli, NormalWithSoftplusScale, Normal\n",
    "from tensorflow.contrib.distributions.python.ops.kullback_leibler import kl as _kl\n",
    "\n",
    "import matplotlib\n",
    "matplotlib.use('Agg')\n",
    "import matplotlib.pyplot as plt\n",
    "% matplotlib inline\n",
    "\n",
    "from neurocity import minimize_clipped\n",
    "from neurocity.tools.params import num_trainable_params\n",
    "\n",
    "from tf_tools.eval import make_expr_logger, gradient_summaries\n",
    "\n",
    "from data import load_data, tensors_from_data\n",
    "from model import AIRCell\n",
    "from ops import Loss\n",
    "from prior import geometric_prior, presence_prob_table, tabular_kl, NumStepsDistribution"
   ]
  },
  {
   "cell_type": "code",
   "execution_count": 2,
   "metadata": {
    "collapsed": true
   },
   "outputs": [],
   "source": [
    "learning_rate = 1e-4\n",
    "batch_size = 64\n",
    "img_size = 50, 50\n",
    "crop_size = 20, 20\n",
    "n_latent = 50\n",
    "n_hidden = 256\n",
    "n_steps = 3\n",
    "\n",
    "results_dir = '../results'\n",
    "run_name = 'test'\n",
    "\n",
    "logdir = osp.join(results_dir, run_name)\n",
    "checkpoint_name = osp.join(logdir, 'model.ckpt')\n",
    "axes = {'imgs': 0, 'labels': 0, 'nums': 1}"
   ]
  },
  {
   "cell_type": "code",
   "execution_count": 3,
   "metadata": {
    "collapsed": true
   },
   "outputs": [],
   "source": [
    "output_std = .3\n",
    "\n",
    "use_prior = True\n",
    "num_steps_prior = 5e-3\n",
    "latent_code_prior = dict(loc=0., scale=1.)\n",
    "\n",
    "use_reinforce = True\n",
    "sample_presence = True\n",
    "presence_bias = 0.\n",
    "\n",
    "init_explore_eps = .05\n",
    "\n",
    "l2_weight = 1e-5"
   ]
  },
  {
   "cell_type": "code",
   "execution_count": 4,
   "metadata": {
    "collapsed": true
   },
   "outputs": [],
   "source": [
    "test_data = load_data('mnist_test.pickle')\n",
    "train_data = load_data('mnist_train.pickle')"
   ]
  },
  {
   "cell_type": "code",
   "execution_count": 5,
   "metadata": {
    "scrolled": false
   },
   "outputs": [],
   "source": [
    "tf.reset_default_graph()\n",
    "train_tensors = tensors_from_data(train_data, batch_size, axes, shuffle=True)\n",
    "test_tensors = tensors_from_data(test_data, batch_size, axes, shuffle=False)\n",
    "x, test_x = train_tensors['imgs'], test_tensors['imgs']\n",
    "y, test_y = train_tensors['nums'], test_tensors['nums']\n",
    "\n",
    "if init_explore_eps > 0:\n",
    "    explore_eps = tf.get_variable('explore_eps', initializer=init_explore_eps, trainable=False)\n",
    "else:\n",
    "    explore_eps = None\n",
    "    \n",
    "transition = snt.LSTM(n_hidden)\n",
    "air = AIRCell(img_size, crop_size, n_latent, transition, max_crop_size=1.0,\n",
    "              canvas_init=None,\n",
    "              sample_presence=sample_presence,\n",
    "              presence_bias=presence_bias,\n",
    "              explore_eps=explore_eps,\n",
    "              debug=True)\n",
    "\n",
    "initial_state = air.initial_state(x)\n",
    "\n",
    "dummy_sequence = tf.zeros((n_steps, batch_size, 1), name='dummy_sequence')\n",
    "outputs, state = tf.nn.dynamic_rnn(air, dummy_sequence, initial_state=initial_state, time_major=True)\n",
    "canvas, cropped, what, what_loc, what_scale, where, presence_prob, presence = outputs\n",
    "\n",
    "with tf.variable_scope('notebook'):\n",
    "    cropped = tf.reshape(presence * tf.nn.sigmoid(cropped), (n_steps, batch_size,) + tuple(crop_size))\n",
    "    canvas = tf.reshape(canvas, (n_steps, batch_size,) + tuple(img_size))\n",
    "    final_canvas = canvas[-1]\n",
    "    \n",
    "    output_std = tf.get_variable('output_std', initializer=output_std, dtype=tf.float32, trainable=False)\n",
    "    output_distrib = Normal(final_canvas, output_std)\n",
    "    \n",
    "    \n",
    "with tf.variable_scope('baseline'):\n",
    "    constant_baseline = snt.TrainableVariable([], initializers={'w': tf.zeros_initializer()}, name='constant_baseline')\n",
    "    parts = [tf.reshape(tf.transpose(i, (1, 0, 2)), (batch_size, -1)) for i in (what, where, presence_prob)]\n",
    "    img_flat = tf.reshape(x, (batch_size, -1))\n",
    "    baseline_inpts = [img_flat] + parts\n",
    "    baseline_inpts = tf.concat(baseline_inpts, -1)\n",
    "    \n",
    "    lin1 = snt.Linear(100)\n",
    "    lin2 = snt.Linear(1)\n",
    "    seq = snt.Sequential([lin1, tf.nn.elu, lin2])\n",
    "    baseline = seq(baseline_inpts) + constant_baseline()\n",
    "    \n",
    "    baseline_mean = tf.reduce_mean(baseline)"
   ]
  },
  {
   "cell_type": "code",
   "execution_count": 6,
   "metadata": {},
   "outputs": [
    {
     "name": "stdout",
     "output_type": "stream",
     "text": [
      "1262283.0\n"
     ]
    }
   ],
   "source": [
    "print num_trainable_params()"
   ]
  },
  {
   "cell_type": "code",
   "execution_count": 7,
   "metadata": {},
   "outputs": [],
   "source": [
    "###    Loss #################################################################################\n",
    "loss = Loss()\n",
    "prior_loss = Loss()\n",
    "train_step = []\n",
    "lr_tensor = tf.Variable(learning_rate, name='learning_rate', trainable=False)\n",
    "Optimizer = lambda lr: tf.train.RMSPropOptimizer(lr, momentum=.9, centered=True)\n",
    "\n",
    "###    Reconstruction Loss ##################################################################\n",
    "# rec_loss_per_sample = tf.nn.sigmoid_cross_entropy_with_logits(labels=x, logits=final_canvas)\n",
    "# rec_loss_per_sample = (x - final_canvas) ** 2\n",
    "rec_loss_per_sample = -output_distrib.log_prob(x)\n",
    "\n",
    "rec_loss_per_sample = tf.reduce_sum(rec_loss_per_sample, axis=(1, 2))\n",
    "rec_loss = tf.reduce_mean(rec_loss_per_sample)\n",
    "tf.summary.scalar('rec_loss', rec_loss)\n",
    "\n",
    "loss.add(rec_loss, rec_loss_per_sample)\n",
    "# # ###    Prior Loss ###########################################################################\n",
    "\n",
    "num_step_per_sample = tf.to_float(tf.squeeze(tf.reduce_sum(presence, 0)))\n",
    "num_step = tf.reduce_mean(num_step_per_sample)\n",
    "if use_prior:\n",
    "    \n",
    "    if num_steps_prior is not None:  \n",
    "        prior = geometric_prior(num_steps_prior, 3)\n",
    "        posterior_probs = tf.transpose(tf.squeeze(presence_prob))\n",
    "        presence_tabular_distrib = presence_prob_table(posterior_probs)\n",
    "        \n",
    "        steps_kl = tabular_kl(presence_tabular_distrib, prior)\n",
    "        num_steps_prior_loss_per_sample = tf.squeeze(tf.reduce_sum(steps_kl, 1))\n",
    "\n",
    "        num_steps_prior_loss = tf.reduce_mean(num_steps_prior_loss_per_sample)\n",
    "        tf.summary.scalar('num_steps_prior_loss', num_steps_prior_loss)\n",
    "        prior_loss.add(num_steps_prior_loss, num_steps_prior_loss_per_sample)\n",
    "\n",
    "    if latent_code_prior is not None:        \n",
    "        prior = Normal(latent_code_prior['loc'], latent_code_prior['scale'])\n",
    "        posterior = NormalWithSoftplusScale(what_loc, what_scale)\n",
    "        \n",
    "        what_kl = _kl(posterior, prior)\n",
    "        what_kl = tf.reduce_sum(what_kl, -1, keep_dims=True) * presence\n",
    "        latent_code_prior_loss_per_sample = tf.squeeze(tf.reduce_sum(what_kl, 0))\n",
    "    \n",
    "#         n_samples_with_encoding = tf.reduce_sum(tf.to_float(tf.greater(num_step_per_sample, 0.)))\n",
    "#         div = tf.maximum(n_samples_with_encoding, 1.)\n",
    "#         latent_code_prior_loss = tf.reduce_sum(latent_code_prior_loss_per_sample) / div\n",
    "        latent_code_prior_loss = tf.reduce_mean(latent_code_prior_loss_per_sample)\n",
    "        tf.summary.scalar('latent_code_prior_loss', latent_code_prior_loss)\n",
    "        prior_loss.add(latent_code_prior_loss, latent_code_prior_loss_per_sample)\n",
    "\n",
    "    tf.summary.scalar('prior_loss', prior_loss.value)\n",
    "    loss.add(prior_loss)\n",
    "\n",
    "# ###   REINFORCE ############################################################################\n",
    "\n",
    "opt_loss = loss.value\n",
    "if use_reinforce:\n",
    "#     clipped_presence_prob = tf.clip_by_value(presence_prob, 1e-7, 1. - 1e-7)\n",
    "#     log_prob = Bernoulli(probs=clipped_presence_prob).log_prob(presence)\n",
    "#     log_prob = tf.squeeze(tf.reduce_mean(log_prob, 0))\n",
    "\n",
    "#     clipped_presence_prob = tf.clip_by_value(posterior_probs, 1e-7, 1. - 1e-7)\n",
    "#     num_steps_distrib = NumStepsDistribution(clipped_presence_prob)\n",
    "    num_steps_distrib = NumStepsDistribution(posterior_probs)\n",
    "    log_prob = num_steps_distrib.log_prob(num_step_per_sample)\n",
    "    log_prob = tf.clip_by_value(log_prob, -1e32, 1e32)\n",
    "\n",
    "    \n",
    "#     log_prob *= -1 # cause we're maximising\n",
    "\n",
    "    importance_weight = loss._per_sample\n",
    "    importance_weight -= baseline\n",
    "\n",
    "    reinforce_loss_per_sample = tf.stop_gradient(importance_weight) * log_prob\n",
    "    reinforce_loss = tf.reduce_mean(reinforce_loss_per_sample)\n",
    "    tf.summary.scalar('reinforce_loss', reinforce_loss)\n",
    "\n",
    "    opt_loss += reinforce_loss\n",
    "    \n",
    "    ### Baseline Optimisation ##################################################################################\n",
    "    baseline_vars = tf.get_collection(tf.GraphKeys.TRAINABLE_VARIABLES, scope='baseline')\n",
    "    baseline_target = tf.stop_gradient(loss.per_sample)\n",
    "    baseline_loss_per_sample = (baseline_target - baseline) ** 2\n",
    "    baseline_loss = tf.reduce_mean(baseline_loss_per_sample)\n",
    "    tf.summary.scalar('baseline_loss', baseline_loss)\n",
    "\n",
    "    baseline_opt = Optimizer(10 * lr_tensor)\n",
    "    baseline_train_step = baseline_opt.minimize(baseline_loss, var_list=baseline_vars)\n",
    "    train_step.append(baseline_train_step)\n",
    "    \n",
    "    \n",
    "    \n",
    "###    Optimizer #################################################################################\n",
    "\n",
    "model_vars = list(set(tf.trainable_variables()) - set(baseline_vars))\n",
    "    \n",
    "#######    L2 reg ################################################################################\n",
    "if l2_weight > 0.:\n",
    "    l2_loss = l2_weight * sum(map(tf.nn.l2_loss, model_vars))\n",
    "    opt_loss += l2_loss\n",
    "    tf.summary.scalar('l2_loss', l2_loss)\n",
    "\n",
    "opt = Optimizer(lr_tensor)\n",
    "# true_train_step = opt.minimize(opt_loss)\n",
    "# true_train_step = minimize_clipped(opt, opt_loss, clip_value=.3, normalize_by_num_params=True)\n",
    "gvs = opt.compute_gradients(opt_loss, var_list=model_vars)\n",
    "true_train_step = opt.apply_gradients(gvs)\n",
    "train_step.append(true_train_step)\n",
    "\n",
    "gradient_summaries(gvs)\n",
    "\n",
    "\n",
    "###    Metrics #################################################################################\n",
    "gt_num = tf.squeeze(tf.reduce_sum(y, 0))\n",
    "num_step_accuracy = tf.reduce_mean(tf.to_float(tf.equal(gt_num, num_step_per_sample)))"
   ]
  },
  {
   "cell_type": "code",
   "execution_count": 8,
   "metadata": {},
   "outputs": [
    {
     "name": "stdout",
     "output_type": "stream",
     "text": [
      "(3, 64, 1)\n"
     ]
    }
   ],
   "source": [
    "print what_kl.get_shape()"
   ]
  },
  {
   "cell_type": "code",
   "execution_count": 9,
   "metadata": {},
   "outputs": [
    {
     "name": "stdout",
     "output_type": "stream",
     "text": [
      "Skipping baseline/linear/w:0\n",
      "Skipping baseline/linear/b:0\n",
      "Skipping baseline/linear_1/w:0\n",
      "Skipping baseline/linear_1/b:0\n",
      "Skipping baseline/constant_baseline/w:0\n"
     ]
    }
   ],
   "source": [
    "vs = tf.trainable_variables()\n",
    "gs = tf.gradients(opt_loss, vs)\n",
    "\n",
    "for v, g in zip(vs, gs):\n",
    "    if g is None:\n",
    "        print 'Skipping', v.name\n",
    "    else:\n",
    "        assert v.get_shape() == g.get_shape(), v.name\n",
    "\n",
    "named_grads = {v.name: g for v, g in zip(vs, gs) if g is not None}"
   ]
  },
  {
   "cell_type": "code",
   "execution_count": 10,
   "metadata": {
    "collapsed": true
   },
   "outputs": [],
   "source": [
    "def grad_variance(n=10, sort_by_var=True):\n",
    "    gs = {k: [] for k in named_grads}\n",
    "    for i in xrange(n):\n",
    "        values = sess.run(named_grads)\n",
    "        for k, v in values.iteritems():\n",
    "            gs[k].append(v)\n",
    "\n",
    "    for k, v in gs.iteritems():\n",
    "        v = np.stack(v, 0).reshape((n, -1))\n",
    "        gs[k] = np.var(v, 0).mean()\n",
    "        \n",
    "    sort_idx = 1 if sort_by_var else 0\n",
    "    gs = sorted(gs.items(), key=lambda x: x[sort_idx], reverse=True)\n",
    "    return gs\n",
    "\n",
    "def print_grad_variance():\n",
    "    grad_vars = grad_variance(10)\n",
    "    print\n",
    "    for g in grad_vars:\n",
    "        if g[1] > 1e-2:\n",
    "            print g\n",
    "    print"
   ]
  },
  {
   "cell_type": "code",
   "execution_count": 11,
   "metadata": {
    "collapsed": true
   },
   "outputs": [],
   "source": [
    "config = tf.ConfigProto()\n",
    "config.gpu_options.allow_growth = True\n",
    "    \n",
    "sess = tf.Session(config=config)\n",
    "sess.run(tf.global_variables_initializer())\n",
    "all_summaries = tf.summary.merge_all()"
   ]
  },
  {
   "cell_type": "code",
   "execution_count": 12,
   "metadata": {},
   "outputs": [],
   "source": [
    "summary_writer = tf.summary.FileWriter(logdir, sess.graph)\n",
    "saver = tf.train.Saver()"
   ]
  },
  {
   "cell_type": "code",
   "execution_count": 13,
   "metadata": {},
   "outputs": [],
   "source": [
    "# import os\n",
    "\n",
    "# restore_dir = '/Users/adam/code/attend_infer_repeat/results/galactus/fixed_test_distrib_exp_5e-2'\n",
    "# restore_step = 1590000\n",
    "# restore_path = os.path.join(restore_dir, 'model.ckpt-{}'.format(restore_step))\n",
    "# saver.restore(sess, restore_path)"
   ]
  },
  {
   "cell_type": "code",
   "execution_count": 14,
   "metadata": {
    "collapsed": true
   },
   "outputs": [],
   "source": [
    "imgs = train_data['imgs']\n",
    "presence_gt = train_data['nums']\n",
    "train_itr = -1"
   ]
  },
  {
   "cell_type": "code",
   "execution_count": 15,
   "metadata": {
    "collapsed": true
   },
   "outputs": [],
   "source": [
    "from matplotlib.patches import Rectangle\n",
    "def rect(bbox, c=None, facecolor='none', label=None, ax=None):\n",
    "    r = Rectangle((bbox[1], bbox[0]), bbox[3], bbox[2],\n",
    "            edgecolor=c, facecolor=facecolor, label=label)\n",
    "\n",
    "    if ax is not None:\n",
    "        ax.add_patch(r)\n",
    "    return r\n",
    "\n",
    "def rect_stn(ax, width, height, w, c=None):\n",
    "    sx, tx, sy, ty = w\n",
    "    x = width * (1. - sx + tx) / 2\n",
    "    y = height * (1. - sy + ty) / 2\n",
    "    bbox = [y-.5, x-.5, height*sy, width*sx]\n",
    "    rect(bbox, c, ax=ax)\n",
    "\n",
    "\n",
    "def make_fig(checkpoint_dir=None, global_step=None):\n",
    "    xx, pred_canvas, pred_crop, prob, pres, w = sess.run([x, canvas, cropped, presence_tabular_distrib[..., 1:], presence, where])\n",
    "    height, width = xx.shape[1:]\n",
    "    \n",
    "    max_imgs = 10\n",
    "    bs = min(max_imgs, batch_size)\n",
    "    scale = 1.5\n",
    "    figsize = scale * np.asarray((bs, 2 * n_steps + 1))\n",
    "    fig, axes = plt.subplots(2 * n_steps + 1, bs, figsize=figsize)\n",
    "\n",
    "    for i, ax in enumerate(axes[0]):\n",
    "        ax.imshow(xx[i], cmap='gray', vmin=0, vmax=1)\n",
    "\n",
    "    for i, ax_row in enumerate(axes[1:1+n_steps]):\n",
    "        for j, ax in enumerate(ax_row):\n",
    "            ax.imshow(pred_canvas[i, j], cmap='gray', vmin=0, vmax=1)\n",
    "            if pres[i, j, 0] > .5:\n",
    "                rect_stn(ax, width, height, w[i, j], 'r')\n",
    "\n",
    "    for i, ax_row in enumerate(axes[1+n_steps:]):\n",
    "        for j, ax in enumerate(ax_row):\n",
    "            ax.imshow(pred_crop[i, j], cmap='gray')#, vmin=0, vmax=1)\n",
    "            ax.set_title('{:d} with p({:d}) = {:.02f}'.format(int(pres[i, j, 0]), i+1, prob[j, i].squeeze()), fontsize=4*scale)\n",
    "\n",
    "    for ax in axes.flatten():\n",
    "        ax.xaxis.set_visible(False)\n",
    "        ax.yaxis.set_visible(False)\n",
    "    \n",
    "    if checkpoint_dir is not None:\n",
    "        fig_name = osp.join(checkpoint_dir, 'progress_fig_{}.png'.format(global_step))\n",
    "        fig.savefig(fig_name, dpi=300)\n",
    "        plt.close('all')"
   ]
  },
  {
   "cell_type": "code",
   "execution_count": null,
   "metadata": {
    "scrolled": false
   },
   "outputs": [],
   "source": [
    "exprs = {\n",
    "    'loss': loss.value,\n",
    "    'rec_loss': rec_loss,\n",
    "    'num_step_acc': num_step_accuracy,\n",
    "    'num_step': num_step\n",
    "}\n",
    "\n",
    "if use_prior:\n",
    "    exprs['prior_loss'] = prior_loss.value\n",
    "    if num_steps_prior is not None:    \n",
    "        exprs['num_steps_prior_loss'] = num_steps_prior_loss\n",
    "\n",
    "    if latent_code_prior is not None:\n",
    "        exprs['latent_code_prior_loss'] = latent_code_prior_loss\n",
    "\n",
    "if use_reinforce:\n",
    "    exprs['baseline_loss'] = baseline_loss\n",
    "    exprs['reinforce_loss'] = reinforce_loss\n",
    "    exprs['imp_weight'] = tf.reduce_mean(importance_weight)\n",
    "    \n",
    "if l2_weight > 0:\n",
    "    exprs['l2_loss'] = l2_loss\n",
    "    \n",
    "train_log = make_expr_logger(sess, summary_writer, train_data['imgs'].shape[0] / batch_size, exprs, name='train')\n",
    "test_log = make_expr_logger(sess, summary_writer, test_data['imgs'].shape[0] / batch_size, exprs, name='test', data_dict={x: test_x, y: test_y})\n",
    "\n",
    "def log(train_itr):\n",
    "    train_log(train_itr)\n",
    "    test_log(train_itr)\n",
    "    print"
   ]
  },
  {
   "cell_type": "code",
   "execution_count": null,
   "metadata": {
    "scrolled": false
   },
   "outputs": [
    {
     "name": "stdout",
     "output_type": "stream",
     "text": [
      "Starting training at iter = -1\n",
      "Step 0, Data train prior_loss = 8.3129, loss = 9.3081, latent_code_prior_loss = 5.1133, imp_weight = 9.4368, num_steps_prior_loss = 3.1996, l2_loss = 0.0112, baseline_loss = 511216.4119, reinforce_loss = -383.6118, rec_loss = 0.9952, num_step = 0.8199, num_step_acc = 0.2960, eval time = 19.78s\n",
      "Step 0, Data test prior_loss = 8.5933, loss = 14.7615, latent_code_prior_loss = 5.3852, imp_weight = 14.8880, num_steps_prior_loss = 3.2082, l2_loss = 0.0112, baseline_loss = 496651.5375, reinforce_loss = -380.8491, rec_loss = 6.1682, num_step = 0.8635, num_step_acc = 0.3031, eval time = 0.4419s\n",
      "\n",
      "Step 2000, Data train prior_loss = 18.2377, loss = -558.2033, latent_code_prior_loss = 14.9676, imp_weight = 24.1285, num_steps_prior_loss = 3.2701, l2_loss = 0.0536, baseline_loss = 20409.6093, reinforce_loss = -36.4396, rec_loss = -576.4410, num_step = 0.6805, num_step_acc = 0.6343, eval time = 21.03s\n",
      "Step 2000, Data test prior_loss = 18.0541, loss = -564.2095, latent_code_prior_loss = 14.8119, imp_weight = 17.7528, num_steps_prior_loss = 3.2422, l2_loss = 0.0536, baseline_loss = 18524.2010, reinforce_loss = -32.2188, rec_loss = -582.2636, num_step = 0.6813, num_step_acc = 0.6833, eval time = 0.4674s\n",
      "\n"
     ]
    }
   ],
   "source": [
    "print 'Starting training at iter = {}'.format(train_itr)\n",
    "\n",
    "for train_itr in xrange(train_itr+1, int(1e7)):\n",
    "        \n",
    "    sess.run(train_step)\n",
    "    \n",
    "    if train_itr % 1000 == 0:\n",
    "        summaries = sess.run(all_summaries)\n",
    "        summary_writer.add_summary(summaries, train_itr)\n",
    "        \n",
    "    if train_itr % 2000 == 0:\n",
    "        log(train_itr)\n",
    "        \n",
    "    if train_itr % 2000 == 0:\n",
    "#         saver.save(sess, checkpoint_name, global_step=train_itr)\n",
    "        make_fig(logdir, train_itr)    \n",
    "    \n",
    "#     if train_itr % 1000 == 0:\n",
    "#         print 'baseline value = {}'.format(sess.run(baseline_mean))\n",
    "#         print_grad_variance()3"
   ]
  },
  {
   "cell_type": "code",
   "execution_count": null,
   "metadata": {},
   "outputs": [],
   "source": [
    "make_fig()"
   ]
  }
 ],
 "metadata": {
  "anaconda-cloud": {},
  "kernelspec": {
   "display_name": "Python [default]",
   "language": "python",
   "name": "python2"
  },
  "language_info": {
   "codemirror_mode": {
    "name": "ipython",
    "version": 2
   },
   "file_extension": ".py",
   "mimetype": "text/x-python",
   "name": "python",
   "nbconvert_exporter": "python",
   "pygments_lexer": "ipython2",
   "version": "2.7.12"
  }
 },
 "nbformat": 4,
 "nbformat_minor": 1
}
