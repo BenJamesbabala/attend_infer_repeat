{
 "cells": [
  {
   "cell_type": "code",
   "execution_count": 47,
   "metadata": {},
   "outputs": [],
   "source": [
    "import numpy as np\n",
    "import tensorflow as tf\n",
    "\n",
    "from tensorflow.contrib.distributions import Normal, TransformedDistribution\n",
    "from tensorflow.contrib.distributions.python.ops import bijectors\n",
    "\n",
    "import seaborn as sns\n",
    "import matplotlib.pyplot as plt\n",
    "% matplotlib inline"
   ]
  },
  {
   "cell_type": "code",
   "execution_count": 48,
   "metadata": {},
   "outputs": [],
   "source": []
  },
  {
   "cell_type": "code",
   "execution_count": 171,
   "metadata": {},
   "outputs": [],
   "source": [
    "tf.reset_default_graph()\n",
    "\n",
    "sess = tf.InteractiveSession()\n",
    "\n",
    "normal = Normal(0., 1.)\n",
    "\n",
    "log_normal = TransformedDistribution(\n",
    "  distribution=normal,\n",
    "  bijector=bijectors.Inline(\n",
    "    forward_fn=tf.exp,\n",
    "    inverse_fn=tf.log,\n",
    "    inverse_log_det_jacobian_fn=(\n",
    "      lambda y: -tf.reduce_sum(tf.log(y), axis=-1)),\n",
    "  name=\"LogNormalTransformedDistribution\"))\n",
    "\n",
    "N = 10000\n",
    "\n",
    "normal_x = normal.sample(N)\n",
    "log_normal_x = log_normal.sample(N)\n",
    "p_log_normal_x = log_normal.prob(log_normal_x)\n",
    "\n",
    "a, b = -3, 3\n",
    "x = tf.range(a, b, (b - a) * 1e-4)\n",
    "px = normal.prob(x)\n",
    "# plogx = log_normal.prob(tf.exp(x))"
   ]
  },
  {
   "cell_type": "code",
   "execution_count": 173,
   "metadata": {},
   "outputs": [],
   "source": [
    "vx, vpx, normal_xx, log_normal_xx, plogx = sess.run([x, px, normal_x, log_normal_x, p_log_normal_x])"
   ]
  },
  {
   "cell_type": "code",
   "execution_count": 222,
   "metadata": {},
   "outputs": [
    {
     "data": {
      "image/png": "[encoded data removed]",
      "text/plain": [
       "<matplotlib.figure.Figure at 0x1342df9d0>"
      ]
     },
     "metadata": {},
     "output_type": "display_data"
    }
   ],
   "source": [
    "fig, ax = plt.subplots(1, 1, figsize=(10, 5))\n",
    "\n",
    "# ax.scatter(vx, vpx, c='g', marker='.', label='normal')\n",
    "\n",
    "# ax.scatter(vx, vpx, c='g', marker='.', label='normal')\n",
    "\n",
    "pos = vx > 0\n",
    "neg = vx <= 0\n",
    "nx = vx[neg]\n",
    "npx = vpx[neg]\n",
    "\n",
    "\n",
    "a = normal_xx.copy()\n",
    "p, n = a > 0, a <= 0\n",
    "# a = vx.copy()\n",
    "a[n] = np.exp(a[n]) - 1\n",
    "\n",
    "bins = np.arange(-1, 5, .1)\n",
    "# _ = ax.hist(a, bins=bins)\n",
    "_ = ax.hist(a[p], bins=bins[10:])\n",
    "_ = ax.hist(a[n], bins=bins[:11])\n",
    "\n",
    "# _ = ax.hist(-log_normal_xx - 1, bins='auto')\n",
    "\n",
    "\n",
    "# ax.scatter(vx[pos], vx[pos], c='r', marker='.', label='linear')\n",
    "# ax.scatter(nx, np.exp(nx) - 1, c='r', marker='.', label='linear')\n",
    "\n",
    "\n",
    "# l = npx * np.exp(-nx)\n",
    "\n",
    "# ax.scatter(nx, l, c='m', marker='.', label='log_normal')\n",
    "\n",
    "# ax.scatter(abs(vx), 2 * vpx, c='r', marker='.', label='folded')\n",
    "\n",
    "# # ax.scatter(vx, vplx, c='c', marker='.', label='log_normal')\n",
    "\n",
    "# pos = vx > 0\n",
    "\n",
    "\n",
    "# ax.scatter(vx[pos], vpx[pos], c='c', marker='.', label='elu')\n",
    "\n",
    "# ax.grid(True)\n",
    "# ax.set_xlim([a, b])\n",
    "# ax.set_ylim([-.05, 1.])\n",
    "# ax.legend(loc='best')"
   ]
  },
  {
   "cell_type": "code",
   "execution_count": 207,
   "metadata": {},
   "outputs": [
    {
     "name": "stdout",
     "output_type": "stream",
     "text": [
      "0.796566 0.366094\n",
      "-0.475839 0.0629407\n",
      "0.153111 0.61749\n",
      "0.153110594162\n"
     ]
    }
   ],
   "source": [
    "p = a > 0\n",
    "n = a < 0\n",
    "print a[p].mean(), a[p].var()\n",
    "print a[n].mean(), a[n].var()\n",
    "print a.mean(), a.var()\n",
    "print (a[p].mean() * p.sum() + a[n].mean() * n.sum()) / (p.sum() + n.sum())\n"
   ]
  },
  {
   "cell_type": "code",
   "execution_count": 216,
   "metadata": {},
   "outputs": [
    {
     "ename": "SyntaxError",
     "evalue": "invalid syntax (<ipython-input-216-e67f8e7dff12>, line 4)",
     "output_type": "error",
     "traceback": [
      "\u001b[0;36m  File \u001b[0;32m\"<ipython-input-216-e67f8e7dff12>\"\u001b[0;36m, line \u001b[0;32m4\u001b[0m\n\u001b[0;31m    print 'relu var', rvbut w\u001b[0m\n\u001b[0m                            ^\u001b[0m\n\u001b[0;31mSyntaxError\u001b[0m\u001b[0;31m:\u001b[0m invalid syntax\n"
     ]
    }
   ],
   "source": [
    "rm = np.sqrt(2. / np.pi)\n",
    "rv = 1 - 2. / np.pi\n",
    "print 'relu mean', rm\n",
    "print 'relu var', rvbut w"
   ]
  },
  {
   "cell_type": "code",
   "execution_count": 217,
   "metadata": {},
   "outputs": [
    {
     "name": "stdout",
     "output_type": "stream",
     "text": [
      "0.366094 0.0629407 0.429035 0.231338\n",
      "0.212789439535\n",
      "2313.38128448 10000 4943 5057\n"
     ]
    }
   ],
   "source": [
    "print a[p].var(), a[n].var(), a[p].var() + a[n].var(), a.var()\n",
    "print (a[p].var() * p.sum() + a[n].var() * n.sum()) / (p.sum() + n.sum())\n",
    "print a.var() * a.shape[0], a.shape[0], p.sum(), n.sum()"
   ]
  },
  {
   "cell_type": "code",
   "execution_count": 304,
   "metadata": {},
   "outputs": [],
   "source": [
    "# a = normal_xx.copy()\n",
    "# p, n = a > 0, a <= 0\n",
    "# a[n] = np.exp(a[n]) - 1\n",
    "\n",
    "# x = a[p]\n",
    "# y = a[n]\n",
    "\n",
    "x = abs(np.random.randn(10000)) \n",
    "z = -abs(np.random.randn(10000))\n",
    "y = np.exp(z) - 1\n",
    "v = np.concatenate([x, y])"
   ]
  },
  {
   "cell_type": "code",
   "execution_count": 241,
   "metadata": {},
   "outputs": [
    {
     "name": "stdout",
     "output_type": "stream",
     "text": [
      "0.362273173071 0.363380227632\n",
      "0.0625406316469\n",
      "0.424813804718\n",
      "0.618129655413\n",
      "0.424364654524\n"
     ]
    }
   ],
   "source": [
    "print x.var(), 1. - 2. / np.pi\n",
    "print y.var()\n",
    "print x.var() + y.var()\n",
    "print np.concatenate((x, y)).var()\n",
    "print (x+y).var()"
   ]
  },
  {
   "cell_type": "code",
   "execution_count": 302,
   "metadata": {},
   "outputs": [
    {
     "data": {
      "image/png": "[encoded data removed]",
      "text/plain": [
       "<matplotlib.figure.Figure at 0x13735a950>"
      ]
     },
     "metadata": {},
     "output_type": "display_data"
    }
   ],
   "source": [
    "fig, ax = plt.subplots(1, 1)\n",
    "\n",
    "bins = np.arange(-1, 5, .1)\n",
    "c = x+y\n",
    "weights = np.ones_like(x) / 2\n",
    "_ = ax.hist(c, bins=bins, normed=False)\n",
    "ax.hist(y, bins=bins[:11], alpha=.5, normed=False, weights=weights)\n",
    "_ = ax.hist(x, bins=bins[10:], alpha=.5, normed=False, weights=weights)"
   ]
  },
  {
   "cell_type": "code",
   "execution_count": 305,
   "metadata": {},
   "outputs": [
    {
     "name": "stdout",
     "output_type": "stream",
     "text": [
      "0.161288060456 0.617148512233\n"
     ]
    }
   ],
   "source": [
    "print v.mean(), v.var()"
   ]
  },
  {
   "cell_type": "code",
   "execution_count": 495,
   "metadata": {},
   "outputs": [],
   "source": [
    "def normal(x, mu, sigma):\n",
    "    p = 1. / (sigma * np.sqrt(2 * np.pi)) * np.exp(-.5 * ((x - mu) / sigma)**2)\n",
    "    return p\n",
    "\n",
    "def lognormal(y, mu, sigma):\n",
    "    p = 1. / (y * sigma * np.sqrt(2 * np.pi)) * np.exp(-.5 * ((np.log(y) - mu) / sigma)**2)\n",
    "    return p\n",
    "\n",
    "\n",
    "\n",
    "def moments(mu, sigma):\n",
    "    m = np.exp(mu + .5 * sigma**2)\n",
    "    v = (np.exp(sigma**2) - 1) * np.exp(2 * mu + sigma**2)\n",
    "    return m, v\n",
    "\n",
    "def inv_moments(m, v):\n",
    "    mu = np.log(m / np.sqrt(1 + v / m**2))\n",
    "    sigma = np.sqrt(np.log(1 + v / m**2))\n",
    "    return mu, sigma\n",
    "\n",
    "def reparam_lognormal(x, mu, sigma):\n",
    "#     y = np.exp(x)\n",
    "    \n",
    "    m, v = moments(mu, sigma)\n",
    "    print m, v**.5\n",
    "    \n",
    "    m = m - 0\n",
    "    \n",
    "    mu, sigma = inv_moments(m, v)\n",
    "    print mu, sigma\n",
    "    \n",
    "    m, v = moments(mu, sigma)\n",
    "    print m, v**.5\n",
    "    \n",
    "#     mu = np.log(m / np.sqrt(1 + v / m**2))\n",
    "#     sigma = np.sqrt(np.log(1 + v / m**2))\n",
    "#     print 'mu = {}, sigma = {}'.format(mu, sigma)\n",
    "    \n",
    "#     return lognormal(y, mu_log, sigma_log)\n",
    "    return lognormal(-x*np.e, mu, sigma)\n",
    "\n",
    "def elu_distrib(x, mu, sigma):\n",
    "    pos = x >= 0\n",
    "    neg = np.logical_not(pos)\n",
    "    \n",
    "    p = np.zeros_like(x)\n",
    "    p[pos] = normal(x[pos], mu, sigma)\n",
    "    n = reparam_lognormal(x[neg], mu, sigma)\n",
    "#     p[neg] = n / (2 * n.sum() * (x[1] - x[0])) \n",
    "#     p[neg] = lognormal(-x[neg], mu, sigma)\n",
    "    return p"
   ]
  },
  {
   "cell_type": "code",
   "execution_count": 496,
   "metadata": {},
   "outputs": [
    {
     "name": "stdout",
     "output_type": "stream",
     "text": [
      "1.6487212707 2.1611974159\n",
      "2.22044604925e-16 1.0\n",
      "1.6487212707 2.1611974159\n"
     ]
    },
    {
     "data": {
      "text/plain": [
       "<matplotlib.legend.Legend at 0x149fd0c90>"
      ]
     },
     "execution_count": 496,
     "metadata": {},
     "output_type": "execute_result"
    },
    {
     "data": {
      "image/png": "[encoded data removed]",
      "text/plain": [
       "<matplotlib.figure.Figure at 0x149ddec50>"
      ]
     },
     "metadata": {},
     "output_type": "display_data"
    }
   ],
   "source": [
    "dx = 1e-2\n",
    "x = np.arange(-6, 10, dx)\n",
    "nx = normal(x, 0., 1.)\n",
    "lnx = lognormal(x, 0., 1.)\n",
    "rlnx = reparam_lognormal(x, 0., 1.)\n",
    "# elu = elu_distrib(x, 0., 1.)\n",
    "\n",
    "fig, ax = plt.subplots(1, 1)\n",
    "ax.plot(x, nx, 'b', label='normal')\n",
    "ax.plot(x, lnx, 'g', label='lognormal')\n",
    "ax.plot(x, rlnx, 'c', label='reparam')\n",
    "# ax.plot(x, elu, 'r', label='elu')\n",
    "ax.legend(loc='best')"
   ]
  },
  {
   "cell_type": "code",
   "execution_count": 429,
   "metadata": {},
   "outputs": [
    {
     "name": "stdout",
     "output_type": "stream",
     "text": [
      "0.999999999044\n",
      "0.989334826422\n",
      "1.64872081025\n",
      "1.4980052886\n"
     ]
    }
   ],
   "source": [
    "print nx.sum() * dx\n",
    "print lnx[x>0].sum() * dx\n",
    "print rlnx.sum() * dx\n",
    "print elu.sum()* dx"
   ]
  }
 ],
 "metadata": {
  "anaconda-cloud": {},
  "kernelspec": {
   "display_name": "Python [conda root]",
   "language": "python",
   "name": "conda-root-py"
  },
  "language_info": {
   "codemirror_mode": {
    "name": "ipython",
    "version": 2
   },
   "file_extension": ".py",
   "mimetype": "text/x-python",
   "name": "python",
   "nbconvert_exporter": "python",
   "pygments_lexer": "ipython2",
   "version": "2.7.12"
  }
 },
 "nbformat": 4,
 "nbformat_minor": 1
}
