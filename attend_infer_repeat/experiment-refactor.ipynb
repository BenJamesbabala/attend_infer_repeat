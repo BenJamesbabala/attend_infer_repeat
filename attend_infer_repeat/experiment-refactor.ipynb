{
 "cells": [
  {
   "cell_type": "code",
   "execution_count": 1,
   "metadata": {
    "collapsed": true
   },
   "outputs": [],
   "source": [
    "from os import path as osp\n",
    "import numpy as np\n",
    "import tensorflow as tf\n",
    "import sonnet as snt\n",
    "from attrdict import AttrDict\n",
    "\n",
    "from evaluation import make_fig, make_logger\n",
    "\n",
    "from neurocity import minimize_clipped\n",
    "from neurocity.tools.params import num_trainable_params\n",
    "\n",
    "from data import load_data, tensors_from_data\n",
    "from mnist_model import AIRonMNIST\n",
    "\n",
    "% matplotlib inline"
   ]
  },
  {
   "cell_type": "code",
   "execution_count": 2,
   "metadata": {
    "collapsed": true
   },
   "outputs": [],
   "source": [
    "learning_rate = 1e-4\n",
    "batch_size = 64\n",
    "img_size = 50, 50\n",
    "crop_size = 20, 20\n",
    "n_latent = 50\n",
    "n_hidden = 256\n",
    "n_steps = 3\n",
    "\n",
    "results_dir = '../results'\n",
    "run_name = 'test'\n",
    "\n",
    "logdir = osp.join(results_dir, run_name)\n",
    "checkpoint_name = osp.join(logdir, 'model.ckpt')\n",
    "axes = {'imgs': 0, 'labels': 0, 'nums': 1}"
   ]
  },
  {
   "cell_type": "code",
   "execution_count": 3,
   "metadata": {
    "collapsed": true
   },
   "outputs": [],
   "source": [
    "use_prior = True\n",
    "\n",
    "num_steps_prior = AttrDict(\n",
    "    anneal='exp',\n",
    "    init=1. - 1e-7,\n",
    "    final=1e-5,\n",
    "    steps_div=1e4,\n",
    "    steps=1e5\n",
    ")\n",
    "\n",
    "appearance_prior = AttrDict(loc=0., scale=1.)\n",
    "where_scale_prior = AttrDict(loc=.5, scale=1.)\n",
    "where_shift_prior = AttrDict(scale=1.)\n",
    "\n",
    "use_reinforce = True\n",
    "sample_presence = True\n",
    "presence_bias = 0.\n",
    "\n",
    "init_explore_eps = .00\n",
    "\n",
    "l2_weight = 1e-5 #1e-5"
   ]
  },
  {
   "cell_type": "code",
   "execution_count": 4,
   "metadata": {
    "collapsed": true
   },
   "outputs": [],
   "source": [
    "test_data = load_data('mnist_test.pickle')\n",
    "train_data = load_data('mnist_train.pickle')"
   ]
  },
  {
   "cell_type": "code",
   "execution_count": 5,
   "metadata": {
    "scrolled": false
   },
   "outputs": [],
   "source": [
    "tf.reset_default_graph()\n",
    "train_tensors = tensors_from_data(train_data, batch_size, axes, shuffle=True)\n",
    "test_tensors = tensors_from_data(test_data, batch_size, axes, shuffle=False)\n",
    "x, test_x = train_tensors['imgs'], test_tensors['imgs']\n",
    "y, test_y = train_tensors['nums'], test_tensors['nums']\n",
    "    \n",
    "n_hidden = 32 * 12\n",
    "n_layers = 2\n",
    "n_hiddens = [n_hidden] * n_layers\n",
    "    \n",
    "air = AIRonMNIST(x, y,\n",
    "                max_steps=3, \n",
    "                explore_eps=init_explore_eps,\n",
    "                inpt_encoder_hidden=n_hiddens,\n",
    "                glimpse_encoder_hidden=n_hiddens,\n",
    "                glimpse_decoder_hidden=n_hiddens,\n",
    "                transform_estimator_hidden=n_hiddens,\n",
    "                baseline_hidden=[256, 128])"
   ]
  },
  {
   "cell_type": "code",
   "execution_count": 6,
   "metadata": {},
   "outputs": [
    {
     "name": "stdout",
     "output_type": "stream",
     "text": [
      "2672535\n"
     ]
    }
   ],
   "source": [
    "print num_trainable_params()"
   ]
  },
  {
   "cell_type": "code",
   "execution_count": 7,
   "metadata": {},
   "outputs": [],
   "source": [
    "train_step, global_step = air.train_step(learning_rate, l2_weight, appearance_prior, where_scale_prior,\n",
    "                            where_shift_prior, num_steps_prior)"
   ]
  },
  {
   "cell_type": "code",
   "execution_count": 8,
   "metadata": {},
   "outputs": [
    {
     "name": "stdout",
     "output_type": "stream",
     "text": [
      "3388056\n"
     ]
    }
   ],
   "source": [
    "print num_trainable_params()"
   ]
  },
  {
   "cell_type": "code",
   "execution_count": 9,
   "metadata": {
    "collapsed": true
   },
   "outputs": [],
   "source": [
    "config = tf.ConfigProto()\n",
    "config.gpu_options.allow_growth = True\n",
    "    \n",
    "sess = tf.Session(config=config)\n",
    "sess.run(tf.global_variables_initializer())\n",
    "all_summaries = tf.summary.merge_all()"
   ]
  },
  {
   "cell_type": "code",
   "execution_count": 10,
   "metadata": {
    "collapsed": true
   },
   "outputs": [],
   "source": [
    "summary_writer = tf.summary.FileWriter(logdir, sess.graph)\n",
    "saver = tf.train.Saver()"
   ]
  },
  {
   "cell_type": "code",
   "execution_count": 11,
   "metadata": {
    "collapsed": true
   },
   "outputs": [],
   "source": [
    "# import os\n",
    "\n",
    "# restore_dir = '/Users/adam/code/attend_infer_repeat/results/galactus/fixed_test_distrib_exp_5e-2'\n",
    "# restore_step = 1590000\n",
    "# restore_path = os.path.join(restore_dir, 'model.ckpt-{}'.format(restore_step))\n",
    "# saver.restore(sess, restore_path)"
   ]
  },
  {
   "cell_type": "code",
   "execution_count": 12,
   "metadata": {
    "collapsed": true
   },
   "outputs": [],
   "source": [
    "imgs = train_data['imgs']\n",
    "presence_gt = train_data['nums']\n",
    "train_itr = -1"
   ]
  },
  {
   "cell_type": "code",
   "execution_count": null,
   "metadata": {
    "collapsed": true,
    "scrolled": false
   },
   "outputs": [],
   "source": [
    "train_batches = train_data['imgs'].shape[0]\n",
    "test_batches = test_data['imgs'].shape[0]\n",
    "log = make_logger(air, sess, summary_writer, train_tensors, train_batches, test_tensors, test_batches)"
   ]
  },
  {
   "cell_type": "code",
   "execution_count": null,
   "metadata": {
    "scrolled": true
   },
   "outputs": [
    {
     "name": "stdout",
     "output_type": "stream",
     "text": [
      "Starting training at iter = 0\n",
      "Step 0, Data train prior_loss = 13.6846, loss = -428.3031, appearance_prior_loss = 8.8568, where_kl = 0.7086, imp_weight = -428.3123, num_steps_prior_loss = 4.1192, l2_loss = 0.0095, baseline_loss = 227773.8891, reinforce_loss = 572.7751, rec_loss = -441.9877, num_step = 1.6440, num_step_acc = 0.2022, eval time = 24.49s\n",
      "Step 0, Data test prior_loss = 13.5176, loss = -440.2148, appearance_prior_loss = 8.7017, where_kl = 0.6964, imp_weight = -440.2235, num_steps_prior_loss = 4.1195, l2_loss = 0.0095, baseline_loss = 232849.6208, reinforce_loss = 584.5438, rec_loss = -453.7324, num_step = 1.6156, num_step_acc = 0.2385, eval time = 0.4936s\n",
      "\n",
      "Step 5000, Data train prior_loss = 39.0058, loss = -565.0409, appearance_prior_loss = 23.2011, where_kl = 13.9937, imp_weight = -1.1537, num_steps_prior_loss = 1.8110, l2_loss = 0.0245, baseline_loss = 18365.3568, reinforce_loss = -1.6827, rec_loss = -604.0468, num_step = 1.9827, num_step_acc = 0.3383, eval time = 25.42s\n",
      "Step 5000, Data test prior_loss = 38.0094, loss = -573.6319, appearance_prior_loss = 22.4346, where_kl = 13.7613, imp_weight = -8.7663, num_steps_prior_loss = 1.8135, l2_loss = 0.0245, baseline_loss = 16496.1969, reinforce_loss = -0.9454, rec_loss = -611.6412, num_step = 1.9656, num_step_acc = 0.3438, eval time = 0.4128s\n",
      "\n",
      "Step 10000, Data train prior_loss = 38.5117, loss = -565.4586, appearance_prior_loss = 22.7456, where_kl = 13.6352, imp_weight = 20.6934, num_steps_prior_loss = 2.1309, l2_loss = 0.0436, baseline_loss = 17617.9847, reinforce_loss = -32.4051, rec_loss = -603.9703, num_step = 1.8499, num_step_acc = 0.3757, eval time = 222.0s\n",
      "Step 10000, Data test prior_loss = 38.2645, loss = -574.6248, appearance_prior_loss = 22.3241, where_kl = 13.8008, imp_weight = 11.5932, num_steps_prior_loss = 2.1395, l2_loss = 0.0436, baseline_loss = 15892.1790, reinforce_loss = -23.4891, rec_loss = -612.8893, num_step = 1.8604, num_step_acc = 0.3760, eval time = 1.587s\n",
      "\n"
     ]
    }
   ],
   "source": [
    "train_itr = sess.run(global_step)\n",
    "print 'Starting training at iter = {}'.format(train_itr)\n",
    "\n",
    "if train_itr == 0:\n",
    "    log(0)\n",
    "\n",
    "while train_itr < 1e6:\n",
    "        \n",
    "    train_itr, _ = sess.run([global_step, train_step])\n",
    "    \n",
    "    if train_itr % 1000 == 0:\n",
    "        summaries = sess.run(all_summaries)\n",
    "        summary_writer.add_summary(summaries, train_itr)\n",
    "        \n",
    "    if train_itr % 5000 == 0:\n",
    "        log(train_itr)\n",
    "        \n",
    "    if train_itr % 5000 == 0:\n",
    "#         saver.save(sess, checkpoint_name, global_step=train_itr)\n",
    "        make_fig(air, sess, logdir, train_itr)    "
   ]
  },
  {
   "cell_type": "code",
   "execution_count": null,
   "metadata": {},
   "outputs": [],
   "source": [
    "make_fig(air, sess)"
   ]
  }
 ],
 "metadata": {
  "anaconda-cloud": {},
  "kernelspec": {
   "display_name": "Python [default]",
   "language": "python",
   "name": "python2"
  },
  "language_info": {
   "codemirror_mode": {
    "name": "ipython",
    "version": 2
   },
   "file_extension": ".py",
   "mimetype": "text/x-python",
   "name": "python",
   "nbconvert_exporter": "python",
   "pygments_lexer": "ipython2",
   "version": "2.7.12"
  }
 },
 "nbformat": 4,
 "nbformat_minor": 1
}
